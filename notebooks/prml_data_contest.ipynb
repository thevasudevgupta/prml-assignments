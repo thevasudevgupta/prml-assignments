{
  "nbformat": 4,
  "nbformat_minor": 0,
  "metadata": {
    "colab": {
      "name": "prml_data_contest.ipynb",
      "provenance": [],
      "collapsed_sections": [],
      "include_colab_link": true
    },
    "kernelspec": {
      "name": "python3",
      "display_name": "Python 3"
    },
    "language_info": {
      "name": "python"
    }
  },
  "cells": [
    {
      "cell_type": "markdown",
      "metadata": {
        "id": "view-in-github",
        "colab_type": "text"
      },
      "source": [
        "<a href=\"https://colab.research.google.com/github/vasudevgupta7/prml-assignments/blob/main/notebooks/prml_data_contest.ipynb\" target=\"_parent\"><img src=\"https://colab.research.google.com/assets/colab-badge.svg\" alt=\"Open In Colab\"/></a>"
      ]
    },
    {
      "cell_type": "markdown",
      "metadata": {
        "id": "76MkeWxPgINa"
      },
      "source": [
        "## PRML Data Contest\n",
        "\n",
        "* Aniruddha (ME18B181)\n",
        "* Vasudev Gupta (ME18B182)"
      ]
    },
    {
      "cell_type": "code",
      "metadata": {
        "id": "NoZhytOkfhFp"
      },
      "source": [
        "import pandas as pd\n",
        "import numpy as np"
      ],
      "execution_count": 1,
      "outputs": []
    },
    {
      "cell_type": "code",
      "metadata": {
        "id": "ObanuM_2f9Yi",
        "colab": {
          "base_uri": "https://localhost:8080/"
        },
        "outputId": "5b3dc88c-d157-4055-dff0-b86bcb214342"
      },
      "source": [
        "!wget https://huggingface.co/datasets/vasudevgupta/prml_data_contest/resolve/main/Dataset_1_Testing.csv\n",
        "!wget https://huggingface.co/datasets/vasudevgupta/prml_data_contest/resolve/main/Dataset_1_Training.csv\n",
        "!wget https://huggingface.co/datasets/vasudevgupta/prml_data_contest/resolve/main/Dataset_2_Testing.csv\n",
        "!wget https://huggingface.co/datasets/vasudevgupta/prml_data_contest/resolve/main/Dataset_2_Training.csv"
      ],
      "execution_count": 2,
      "outputs": [
        {
          "output_type": "stream",
          "name": "stdout",
          "text": [
            "--2021-11-02 17:11:07--  https://huggingface.co/datasets/vasudevgupta/prml_data_contest/resolve/main/Dataset_1_Testing.csv\n",
            "Resolving huggingface.co (huggingface.co)... 54.84.242.188, 50.19.215.42, 2600:1f18:147f:e800:edd:39e0:4b19:157c, ...\n",
            "Connecting to huggingface.co (huggingface.co)|54.84.242.188|:443... connected.\n",
            "HTTP request sent, awaiting response... 302 Found\n",
            "Location: https://cdn-lfs.huggingface.co/datasets/vasudevgupta/prml_data_contest/b5a8ea21c184ed35d8946df4e31f7e958250e80d7d7ed56009c86723a2f52173 [following]\n",
            "--2021-11-02 17:11:07--  https://cdn-lfs.huggingface.co/datasets/vasudevgupta/prml_data_contest/b5a8ea21c184ed35d8946df4e31f7e958250e80d7d7ed56009c86723a2f52173\n",
            "Resolving cdn-lfs.huggingface.co (cdn-lfs.huggingface.co)... 13.226.50.119, 13.226.50.26, 13.226.50.25, ...\n",
            "Connecting to cdn-lfs.huggingface.co (cdn-lfs.huggingface.co)|13.226.50.119|:443... connected.\n",
            "HTTP request sent, awaiting response... 200 OK\n",
            "Length: 15916901 (15M) [binary/octet-stream]\n",
            "Saving to: ‘Dataset_1_Testing.csv’\n",
            "\n",
            "Dataset_1_Testing.c 100%[===================>]  15.18M  37.3MB/s    in 0.4s    \n",
            "\n",
            "2021-11-02 17:11:08 (37.3 MB/s) - ‘Dataset_1_Testing.csv’ saved [15916901/15916901]\n",
            "\n",
            "--2021-11-02 17:11:08--  https://huggingface.co/datasets/vasudevgupta/prml_data_contest/resolve/main/Dataset_1_Training.csv\n",
            "Resolving huggingface.co (huggingface.co)... 54.84.242.188, 50.19.215.42, 2600:1f18:147f:e800:edd:39e0:4b19:157c, ...\n",
            "Connecting to huggingface.co (huggingface.co)|54.84.242.188|:443... connected.\n",
            "HTTP request sent, awaiting response... 302 Found\n",
            "Location: https://cdn-lfs.huggingface.co/datasets/vasudevgupta/prml_data_contest/aa2c09bc9909b0148df477eaa75b5d720fe2ec8a0463908e774ecdbc6d3935e9 [following]\n",
            "--2021-11-02 17:11:08--  https://cdn-lfs.huggingface.co/datasets/vasudevgupta/prml_data_contest/aa2c09bc9909b0148df477eaa75b5d720fe2ec8a0463908e774ecdbc6d3935e9\n",
            "Resolving cdn-lfs.huggingface.co (cdn-lfs.huggingface.co)... 13.226.50.119, 13.226.50.26, 13.226.50.25, ...\n",
            "Connecting to cdn-lfs.huggingface.co (cdn-lfs.huggingface.co)|13.226.50.119|:443... connected.\n",
            "HTTP request sent, awaiting response... 200 OK\n",
            "Length: 20627188 (20M) [binary/octet-stream]\n",
            "Saving to: ‘Dataset_1_Training.csv’\n",
            "\n",
            "Dataset_1_Training. 100%[===================>]  19.67M  36.6MB/s    in 0.5s    \n",
            "\n",
            "2021-11-02 17:11:09 (36.6 MB/s) - ‘Dataset_1_Training.csv’ saved [20627188/20627188]\n",
            "\n",
            "--2021-11-02 17:11:09--  https://huggingface.co/datasets/vasudevgupta/prml_data_contest/resolve/main/Dataset_2_Testing.csv\n",
            "Resolving huggingface.co (huggingface.co)... 54.84.242.188, 50.19.215.42, 2600:1f18:147f:e800:edd:39e0:4b19:157c, ...\n",
            "Connecting to huggingface.co (huggingface.co)|54.84.242.188|:443... connected.\n",
            "HTTP request sent, awaiting response... 302 Found\n",
            "Location: https://cdn-lfs.huggingface.co/datasets/vasudevgupta/prml_data_contest/472b8daf683c431ad04a6e90cd858d02bcf88dd7b7fb366f107a6380c5bf7235 [following]\n",
            "--2021-11-02 17:11:09--  https://cdn-lfs.huggingface.co/datasets/vasudevgupta/prml_data_contest/472b8daf683c431ad04a6e90cd858d02bcf88dd7b7fb366f107a6380c5bf7235\n",
            "Resolving cdn-lfs.huggingface.co (cdn-lfs.huggingface.co)... 13.226.50.119, 13.226.50.26, 13.226.50.25, ...\n",
            "Connecting to cdn-lfs.huggingface.co (cdn-lfs.huggingface.co)|13.226.50.119|:443... connected.\n",
            "HTTP request sent, awaiting response... 200 OK\n",
            "Length: 82980616 (79M) [binary/octet-stream]\n",
            "Saving to: ‘Dataset_2_Testing.csv’\n",
            "\n",
            "Dataset_2_Testing.c 100%[===================>]  79.14M  80.3MB/s    in 1.0s    \n",
            "\n",
            "2021-11-02 17:11:12 (80.3 MB/s) - ‘Dataset_2_Testing.csv’ saved [82980616/82980616]\n",
            "\n",
            "--2021-11-02 17:11:12--  https://huggingface.co/datasets/vasudevgupta/prml_data_contest/resolve/main/Dataset_2_Training.csv\n",
            "Resolving huggingface.co (huggingface.co)... 50.19.215.42, 54.84.242.188, 2600:1f18:147f:e800:edd:39e0:4b19:157c, ...\n",
            "Connecting to huggingface.co (huggingface.co)|50.19.215.42|:443... connected.\n",
            "HTTP request sent, awaiting response... 302 Found\n",
            "Location: https://cdn-lfs.huggingface.co/datasets/vasudevgupta/prml_data_contest/c8d9fde033502ae4547442bab9739e153dbcd18791523df4673ffc52450c94ce [following]\n",
            "--2021-11-02 17:11:12--  https://cdn-lfs.huggingface.co/datasets/vasudevgupta/prml_data_contest/c8d9fde033502ae4547442bab9739e153dbcd18791523df4673ffc52450c94ce\n",
            "Resolving cdn-lfs.huggingface.co (cdn-lfs.huggingface.co)... 13.226.50.119, 13.226.50.26, 13.226.50.55, ...\n",
            "Connecting to cdn-lfs.huggingface.co (cdn-lfs.huggingface.co)|13.226.50.119|:443... connected.\n",
            "HTTP request sent, awaiting response... 200 OK\n",
            "Length: 131411624 (125M) [binary/octet-stream]\n",
            "Saving to: ‘Dataset_2_Training.csv’\n",
            "\n",
            "Dataset_2_Training. 100%[===================>] 125.32M  83.6MB/s    in 1.5s    \n",
            "\n",
            "2021-11-02 17:11:15 (83.6 MB/s) - ‘Dataset_2_Training.csv’ saved [131411624/131411624]\n",
            "\n"
          ]
        }
      ]
    },
    {
      "cell_type": "code",
      "metadata": {
        "id": "ClFpOLPNf91V",
        "colab": {
          "base_uri": "https://localhost:8080/"
        },
        "outputId": "02a38d34-4ce1-44df-e006-b911b1aaceb5"
      },
      "source": [
        "from sklearn.tree import ExtraTreeClassifier\n",
        "from sklearn.tree import DecisionTreeClassifier\n",
        "from sklearn.svm.classes import OneClassSVM\n",
        "from sklearn.multioutput import ClassifierChain\n",
        "from sklearn.multioutput import MultiOutputClassifier\n",
        "from sklearn.multiclass import OutputCodeClassifier\n",
        "from sklearn.multiclass import OneVsOneClassifier\n",
        "from sklearn.multiclass import OneVsRestClassifier\n",
        "from sklearn.linear_model.stochastic_gradient import SGDClassifier\n",
        "from sklearn.linear_model.ridge import RidgeClassifierCV\n",
        "from sklearn.linear_model.ridge import RidgeClassifier\n",
        "from sklearn.linear_model.passive_aggressive import PassiveAggressiveClassifier    \n",
        "from sklearn.gaussian_process.gpc import GaussianProcessClassifier\n",
        "from sklearn.ensemble import VotingClassifier\n",
        "from sklearn.ensemble.weight_boosting import AdaBoostClassifier\n",
        "from sklearn.ensemble.gradient_boosting import GradientBoostingClassifier\n",
        "from sklearn.ensemble.bagging import BaggingClassifier\n",
        "from sklearn.ensemble.forest import ExtraTreesClassifier\n",
        "from sklearn.ensemble.forest import RandomForestClassifier\n",
        "from sklearn.naive_bayes import BernoulliNB\n",
        "from sklearn.calibration import CalibratedClassifierCV\n",
        "from sklearn.naive_bayes import GaussianNB\n",
        "from sklearn.discriminant_analysis import LinearDiscriminantAnalysis\n",
        "from sklearn.svm import LinearSVC\n",
        "from sklearn.linear_model import LogisticRegression\n",
        "from sklearn.linear_model import LogisticRegressionCV\n",
        "from sklearn.naive_bayes import MultinomialNB  \n",
        "from sklearn.svm import NuSVC\n",
        "from sklearn.discriminant_analysis import QuadraticDiscriminantAnalysis\n",
        "from sklearn.svm import SVC\n",
        "from sklearn.mixture import GaussianMixture\n",
        "\n",
        "from sklearn.metrics import accuracy_score, f1_score\n",
        "from sklearn.model_selection import StratifiedKFold\n",
        "from sklearn.metrics import make_scorer, matthews_corrcoef \n",
        "from sklearn.model_selection import cross_val_score\n",
        "from sklearn.linear_model import Lasso\n",
        "from sklearn.model_selection import RandomizedSearchCV, GridSearchCV\n",
        "from sklearn.decomposition import PCA \n",
        "\n",
        "from imblearn.over_sampling import SMOTE, ADASYN"
      ],
      "execution_count": 3,
      "outputs": [
        {
          "output_type": "stream",
          "name": "stderr",
          "text": [
            "/usr/local/lib/python3.7/dist-packages/sklearn/utils/deprecation.py:144: FutureWarning: The sklearn.svm.classes module is  deprecated in version 0.22 and will be removed in version 0.24. The corresponding classes / functions should instead be imported from sklearn.svm. Anything that cannot be imported from sklearn.svm is now part of the private API.\n",
            "  warnings.warn(message, FutureWarning)\n",
            "/usr/local/lib/python3.7/dist-packages/sklearn/utils/deprecation.py:144: FutureWarning: The sklearn.linear_model.stochastic_gradient module is  deprecated in version 0.22 and will be removed in version 0.24. The corresponding classes / functions should instead be imported from sklearn.linear_model. Anything that cannot be imported from sklearn.linear_model is now part of the private API.\n",
            "  warnings.warn(message, FutureWarning)\n",
            "/usr/local/lib/python3.7/dist-packages/sklearn/utils/deprecation.py:144: FutureWarning: The sklearn.linear_model.ridge module is  deprecated in version 0.22 and will be removed in version 0.24. The corresponding classes / functions should instead be imported from sklearn.linear_model. Anything that cannot be imported from sklearn.linear_model is now part of the private API.\n",
            "  warnings.warn(message, FutureWarning)\n",
            "/usr/local/lib/python3.7/dist-packages/sklearn/utils/deprecation.py:144: FutureWarning: The sklearn.linear_model.passive_aggressive module is  deprecated in version 0.22 and will be removed in version 0.24. The corresponding classes / functions should instead be imported from sklearn.linear_model. Anything that cannot be imported from sklearn.linear_model is now part of the private API.\n",
            "  warnings.warn(message, FutureWarning)\n",
            "/usr/local/lib/python3.7/dist-packages/sklearn/utils/deprecation.py:144: FutureWarning: The sklearn.gaussian_process.gpc module is  deprecated in version 0.22 and will be removed in version 0.24. The corresponding classes / functions should instead be imported from sklearn.gaussian_process. Anything that cannot be imported from sklearn.gaussian_process is now part of the private API.\n",
            "  warnings.warn(message, FutureWarning)\n",
            "/usr/local/lib/python3.7/dist-packages/sklearn/utils/deprecation.py:144: FutureWarning: The sklearn.ensemble.weight_boosting module is  deprecated in version 0.22 and will be removed in version 0.24. The corresponding classes / functions should instead be imported from sklearn.ensemble. Anything that cannot be imported from sklearn.ensemble is now part of the private API.\n",
            "  warnings.warn(message, FutureWarning)\n",
            "/usr/local/lib/python3.7/dist-packages/sklearn/utils/deprecation.py:144: FutureWarning: The sklearn.ensemble.gradient_boosting module is  deprecated in version 0.22 and will be removed in version 0.24. The corresponding classes / functions should instead be imported from sklearn.ensemble. Anything that cannot be imported from sklearn.ensemble is now part of the private API.\n",
            "  warnings.warn(message, FutureWarning)\n",
            "/usr/local/lib/python3.7/dist-packages/sklearn/utils/deprecation.py:144: FutureWarning: The sklearn.ensemble.bagging module is  deprecated in version 0.22 and will be removed in version 0.24. The corresponding classes / functions should instead be imported from sklearn.ensemble. Anything that cannot be imported from sklearn.ensemble is now part of the private API.\n",
            "  warnings.warn(message, FutureWarning)\n",
            "/usr/local/lib/python3.7/dist-packages/sklearn/utils/deprecation.py:144: FutureWarning: The sklearn.ensemble.forest module is  deprecated in version 0.22 and will be removed in version 0.24. The corresponding classes / functions should instead be imported from sklearn.ensemble. Anything that cannot be imported from sklearn.ensemble is now part of the private API.\n",
            "  warnings.warn(message, FutureWarning)\n",
            "/usr/local/lib/python3.7/dist-packages/sklearn/externals/six.py:31: FutureWarning: The module is deprecated in version 0.21 and will be removed in version 0.23 since we've dropped support for Python 2.7. Please rely on the official version of six (https://pypi.org/project/six/).\n",
            "  \"(https://pypi.org/project/six/).\", FutureWarning)\n",
            "/usr/local/lib/python3.7/dist-packages/sklearn/utils/deprecation.py:144: FutureWarning: The sklearn.neighbors.base module is  deprecated in version 0.22 and will be removed in version 0.24. The corresponding classes / functions should instead be imported from sklearn.neighbors. Anything that cannot be imported from sklearn.neighbors is now part of the private API.\n",
            "  warnings.warn(message, FutureWarning)\n"
          ]
        }
      ]
    },
    {
      "cell_type": "code",
      "metadata": {
        "id": "AZitDjDWm_rh"
      },
      "source": [
        "def load_data():\n",
        "  df1 = pd.read_csv(\"Dataset_1_Training.csv\", index_col=0, header=0)\n",
        "  X1 = df1.values.T[:, :-2]\n",
        "  co1 = df1.iloc[-2,:].values\n",
        "  co2 = df1.iloc[-1,:].values\n",
        "\n",
        "  df1_test = pd.read_csv(\"Dataset_1_Testing.csv\", index_col=0, header=0)\n",
        "  X1_test = df1_test.values.T\n",
        "\n",
        "  df2 = pd.read_csv(\"Dataset_2_Training.csv\", index_col=0, header=0)\n",
        "  X2 = df2.values.T[:, :-4]\n",
        "  co3 = df2.iloc[-4, :].values\n",
        "  co4 = df2.iloc[-3, :].values\n",
        "  co5 = df2.iloc[-2, :].values\n",
        "  co6 = df2.iloc[-1, :].values\n",
        "\n",
        "  df2_test = pd.read_csv(\"Dataset_2_Testing.csv\", index_col=0, header=0)\n",
        "  X2_test = df2_test.values.T\n",
        "\n",
        "  return X1, X2, (co1, co2, co3, co4, co5, co6), X1_test, X2_test"
      ],
      "execution_count": 4,
      "outputs": []
    },
    {
      "cell_type": "code",
      "metadata": {
        "id": "OeOxrCounPty",
        "colab": {
          "base_uri": "https://localhost:8080/"
        },
        "outputId": "f14c419c-668d-4257-d5b7-9888291449fd"
      },
      "source": [
        "X1, X2, targets, X1_test, X2_test = load_data()\n",
        "co1, co2, co3, co4, co5, co6 = targets\n",
        "\n",
        "print(\"dataset-1\", X1.shape, co1.shape, co2.shape, X1_test.shape)\n",
        "print(\"dataset-2\", X2.shape, co3.shape, co4.shape, co5.shape, co6.shape, X2_test.shape)"
      ],
      "execution_count": 5,
      "outputs": [
        {
          "output_type": "stream",
          "name": "stdout",
          "text": [
            "dataset-1 (130, 22283) (130,) (130,) (100, 22283)\n",
            "dataset-2 (340, 54675) (340,) (340,) (340,) (340,) (214, 54675)\n"
          ]
        }
      ]
    },
    {
      "cell_type": "code",
      "metadata": {
        "id": "6Dhq5KQBwtUl"
      },
      "source": [
        "def train_test(model, X, Y):\n",
        "  # Stratified K-Fold object instantiation\n",
        "  kf = StratifiedKFold(3, shuffle=True, random_state=1)\n",
        "\n",
        "  train_acc_scores = list()\n",
        "  train_f1_scores = list()\n",
        "\n",
        "  test_acc_scores = list()\n",
        "  test_f1_scores = list()\n",
        "\n",
        "  for train_index, test_index in kf.split(X, Y):\n",
        "    # Training set\n",
        "    X_train, Y_train = X[train_index], Y[train_index]\n",
        "\n",
        "    # Testing set\n",
        "    X_test, Y_test = X[test_index], Y[test_index]\n",
        "\n",
        "    # Model training\n",
        "    model.fit(X_train, Y_train)\n",
        "\n",
        "    # Evaluating predictions on the training set\n",
        "    pred_train = model.predict(X_train)\n",
        "    train_acc_scores.append(accuracy_score(Y_train, pred_train))\n",
        "    train_f1_scores.append(f1_score(Y_train, pred_train))\n",
        "\n",
        "    # Evaluating predictions on the testing set\n",
        "    pred_test = model.predict(X_test)\n",
        "    test_acc_scores.append(accuracy_score(Y_test, pred_test))\n",
        "    test_f1_scores.append(f1_score(Y_test, pred_test))\n",
        "\n",
        "  mean_train_acc = np.mean(train_acc_scores)\n",
        "  mean_train_f1 = np.mean(train_f1_scores)\n",
        "\n",
        "  mean_test_acc = np.mean(test_acc_scores)\n",
        "  mean_test_f1 = np.mean(test_f1_scores)\n",
        "\n",
        "  d = dict({\"Mean Training Accuracy score\":mean_train_acc,\n",
        "            \"Mean Training F1 score\":mean_train_f1,\n",
        "            \"Mean Testing Accuracy score\":mean_test_acc,\n",
        "            \"Mean Testing F1 score\":mean_test_f1})\n",
        "  \n",
        "  performance = pd.Series(d, index=d.keys())\n",
        "\n",
        "  return performance"
      ],
      "execution_count": null,
      "outputs": []
    },
    {
      "cell_type": "code",
      "metadata": {
        "colab": {
          "base_uri": "https://localhost:8080/"
        },
        "id": "qLiX4grsT3AH",
        "outputId": "2088e02c-d23f-4314-cbeb-ab842f7524ab"
      },
      "source": [
        "X1_test.shape, X2_test.shape"
      ],
      "execution_count": null,
      "outputs": [
        {
          "output_type": "execute_result",
          "data": {
            "text/plain": [
              "((100, 22283), (214, 54675))"
            ]
          },
          "metadata": {},
          "execution_count": 8
        }
      ]
    },
    {
      "cell_type": "code",
      "metadata": {
        "id": "MeLoUm3gYwcp"
      },
      "source": [
        "def train_test2(model, feature_col, target_col,):\n",
        "    # Cross Validation Strategy\n",
        "    kf = StratifiedKFold(3, shuffle=True, random_state=1)\n",
        "    \n",
        "    # Performance Evaluation\n",
        "    acc_scores = cross_val_score(model, feature_col, target_col, scoring='accuracy', cv=kf)\n",
        "    mean_acc = np.mean(acc_scores)\n",
        "    \n",
        "    f1_scores = cross_val_score(model, feature_col, target_col, scoring='f1', cv=kf)\n",
        "    mean_f1= np.mean(f1_scores)\n",
        "    \n",
        "    mcc_scorer = make_scorer(matthews_corrcoef)\n",
        "    mcc_scores = cross_val_score(model, feature_col, target_col, scoring=mcc_scorer, cv=kf)\n",
        "    mean_mcc= np.mean(mcc_scores)\n",
        "    \n",
        "    d = dict({\"Accuracy score\":mean_acc,\n",
        "              \"F1 score\":mean_f1,\n",
        "              \"MCC score\":mean_mcc,\n",
        "              })\n",
        "  \n",
        "    performance = pd.Series(d, index=d.keys())\n",
        " \n",
        "    return performance"
      ],
      "execution_count": null,
      "outputs": []
    },
    {
      "cell_type": "code",
      "metadata": {
        "id": "rX2WMZanV-68"
      },
      "source": [
        "def make_prediction2(model, X1, X2, co1, co2, co3, co4, co5, co6, X1_test, X2_test):\n",
        "  predictions = []\n",
        "\n",
        "  for X, y, X_test in zip([X1, X1, X2, X2, X2, X2], [co1, co2, co3, co4, co5, co6], [X1_test, X1_test, X2_test, X2_test, X2_test, X2_test]):\n",
        "    clf = Lasso(alpha=alpha)\n",
        "    clf.fit(X, y)\n",
        "    X_lasso = X[:, clf.coef_ != 0]\n",
        "\n",
        "    print(\"######\")\n",
        "    # print(\"### Without LASSO ###\")\n",
        "    # print(train_test2(model, X, y))\n",
        "    print(\"### With LASSO ###\")\n",
        "    print(train_test2(model, X_lasso, y))\n",
        "\n",
        "    model.fit(X_lasso, y)\n",
        "    print(\"TOTAL FEATURES:\", X_test.shape[1], \"||\" , \"IMPORTANT FEATURES:\", np.sum(clf.coef_ != 0))\n",
        "    predictions.append(model.predict(X_test[:, clf.coef_ != 0]))\n",
        "\n",
        "  predictions = np.concatenate(predictions).astype(np.int32)\n",
        "  submission = pd.DataFrame({\"Id\": np.arange(len(predictions)), \"Predicted\": predictions})\n",
        "  return submission"
      ],
      "execution_count": null,
      "outputs": []
    },
    {
      "cell_type": "code",
      "metadata": {
        "id": "VqlZUf_vNCAR"
      },
      "source": [
        "def make_prediction(model_class, random_grid, X1, X2, targets, X1_test, X2_test, imblearn_instance):\n",
        "  predictions = []\n",
        "\n",
        "  co1, co2, co3, co4, co5, co6 = targets\n",
        "  for X, y, X_test in zip([X1, X1, X2, X2, X2, X2], [co1, co2, co3, co4, co5, co6], [X1_test, X1_test, X2_test, X2_test, X2_test, X2_test]):\n",
        "    clf = linear_model.Lasso(alpha=0.01)\n",
        "    clf.fit(X, y)\n",
        "    X_lasso = X[:, clf.coef_ != 0]\n",
        "\n",
        "    sm_X_lasso, sm_y = imblearn_instance.fit_resample(X_lasso, y)\n",
        "    print(\"######\")\n",
        "    print(sm_X_lasso.shape, sm_y.shape)\n",
        "\n",
        "    # # print(\"### Without LASSO ###\")\n",
        "    # # print(train_test2(model, X, y))\n",
        "    # print(\"### With LASSO ###\")\n",
        "    # print(train_test2(model, X_lasso, y))\n",
        "    # print(train_test2(model, sm_X_lasso, sm_y))\n",
        "\n",
        "    # clf_random = RandomizedSearchCV(estimator=model_class(), \n",
        "    #                                 param_distributions=random_grid,\n",
        "    #                                 n_iter = 100, \n",
        "    #                                 scoring=make_scorer(matthews_corrcoef), \n",
        "    #                                 cv=StratifiedKFold(3, shuffle=True, random_state=42), \n",
        "    #                                 n_jobs=-1,\n",
        "    #                                 random_state=42,  \n",
        "    #                                 return_train_score=True\n",
        "    #                               )\n",
        "    \n",
        "    clf_random = GridSearchCV(estimator=model_class(), \n",
        "                                    param_grid=random_grid,\n",
        "                                    scoring=make_scorer(matthews_corrcoef), \n",
        "                                    cv=StratifiedKFold(3, shuffle=True, random_state=42), \n",
        "                                    n_jobs=-1,\n",
        "                                    return_train_score=True\n",
        "                                  )\n",
        "    clf_random.fit(sm_X_lasso, sm_y)\n",
        "\n",
        "    model = model_class(**clf_random.best_params_)\n",
        "    model.fit(sm_X_lasso, sm_y)\n",
        "\n",
        "    print(clf_random.best_params_)\n",
        "    print(train_test2(model, sm_X_lasso, sm_y))\n",
        "\n",
        "    # print(\"TOTAL:\", X_test.shape, \"||\" , \"AFTER LASSO:\", np.sum(clf.coef_ != 0), \"||\", \"AFTER IMBLEARN:\", sm_X_lasso.shape)\n",
        "    X_test_lasso = X_test[:, clf.coef_ != 0]\n",
        "    predictions.append(model.predict(X_test_lasso))\n",
        "\n",
        "  predictions = np.concatenate(predictions).astype(np.int32)\n",
        "  submission = pd.DataFrame({\"Id\": np.arange(len(predictions)), \"Predicted\": predictions})\n",
        "  return submission"
      ],
      "execution_count": null,
      "outputs": []
    },
    {
      "cell_type": "code",
      "metadata": {
        "id": "iRzdubFB6gkW"
      },
      "source": [
        "def predict(X, y, X_test, svc_params, rf_params, ad_params):\n",
        "  svc_params.update({\"probability\": True})\n",
        "  svc_model = SVC(**svc_params)\n",
        "  rf_model = RandomForestClassifier(**rf_params)\n",
        "  ad_model = AdaBoostClassifier(**ad_params)\n",
        "\n",
        "  vc = VotingClassifier(estimators=[('svm', svc_model), ('rfc', rf_model), ('abc', ad_model)], voting='soft', n_jobs=-1)\n",
        "\n",
        "  clf = Lasso(alpha=0.01)\n",
        "  clf.fit(X, y)\n",
        "  X_lasso = X[:, clf.coef_ != 0]\n",
        "\n",
        "  # sm_X_lasso, sm_y = SMOTE().fit_resample(X_lasso, y)\n",
        "  sm_X_lasso, sm_y = X_lasso, y\n",
        "\n",
        "  vc.fit(sm_X_lasso, sm_y)\n",
        "\n",
        "  X_test_lasso = X_test[:, clf.coef_ != 0]\n",
        "\n",
        "  return vc.predict(X_test_lasso)"
      ],
      "execution_count": null,
      "outputs": []
    },
    {
      "cell_type": "code",
      "metadata": {
        "id": "htr7TQyV-g0M"
      },
      "source": [
        "# submission.to_csv(\"submission.csv\", index=False)"
      ],
      "execution_count": null,
      "outputs": []
    },
    {
      "cell_type": "code",
      "metadata": {
        "id": "K-Y21OBiwtav"
      },
      "source": [
        "# co1 lasso(alpha=0.065) PCA(n_components=0.75) SVC(kernel='linear')\n",
        "# co2 lasso(alpha=0.07) PCA(n_components=0.7) SVC(kernel='linear')\n",
        "# co3 lasso(alpha=0.01) PCA(n_components=0.75) SVC(kernel='linear')\n",
        "# co4 lasso(alpha=0.02) PCA(n_components=0.7) SVC(kernel='linear')\n",
        "# co5 lasso(alpha=0.015) PCA(n_components=0.5) SVC(kernel='linear')\n",
        "# co6 lasso(alpha=0.015) PCA(n_components=0.9) SVC(kernel='linear')"
      ],
      "execution_count": null,
      "outputs": []
    },
    {
      "cell_type": "code",
      "metadata": {
        "id": "VAQbh5a0H9PE"
      },
      "source": [
        "# submission.to_csv(\"submission2.csv\", index=False)"
      ],
      "execution_count": null,
      "outputs": []
    },
    {
      "cell_type": "code",
      "metadata": {
        "id": "Ryc0C5_T7lDs"
      },
      "source": [
        "# from boruta import BorutaPy\n",
        "# from sklearn.model_selection import train_test_split\n",
        "\n",
        "# def predict_with_boruta(X, y, X_test):\n",
        "#   X_train, X_val, y_train, y_val = train_test_split(X, y, stratify=y, random_state=0)\n",
        "#   print(\"train test split:\", X_train.shape, X_val.shape, y_train.shape, y_test.shape)\n",
        "#   print(\"Split Ratio:\", np.sum(y_val) / len(y_val), np.sum(y) / len(y))\n",
        "\n",
        "#   rf_model = RandomForestClassifier(n_jobs=-1, class_weight='balanced', max_depth=None, random_state=42)\n",
        "#   feat_selector = BorutaPy(rf_model, n_estimators='auto', random_state=42)\n",
        "#   X_train_boru = feat_selector.fit_transform(X_train, y_train)\n",
        "#   X_val_boru = feat_selector.transform(X_val)\n",
        "\n",
        "#   print(X_train_boru.shape, X_val_boru.shape)\n",
        "\n",
        "#   model = SVC()\n",
        "#   model.fit(X_train_boru, y_train)\n",
        "\n",
        "#   y_pred = model.predict(X_val_boru)\n",
        "\n",
        "#   accuracy = sklearn.metrics.accuracy_score(y_val, y_pred, normalize=True)\n",
        "#   mcc = sklearn.metrics.matthews_corrcoef(y_val, y_pred)\n",
        "#   print(\"Accuracy:\", accuracy)\n",
        "#   print(\"MCC:\", mcc)\n",
        "\n",
        "  "
      ],
      "execution_count": null,
      "outputs": []
    },
    {
      "cell_type": "code",
      "metadata": {
        "id": "s8nrKsaz9nON"
      },
      "source": [
        "# predict_with_boruta(X1, co1, X1_test)\n",
        "# Random forest (random state = 42)\n",
        "# predict_with_boruta(X1, co2, X1_test)\n",
        "# predict_with_boruta(X2, co3, X2_test)\n",
        "# predict_with_boruta(X2, co4, X2_test)\n",
        "# predict_with_boruta(X2, co5, X2_test)\n",
        "# predict_with_boruta(X2, co6, X2_test)"
      ],
      "execution_count": null,
      "outputs": []
    },
    {
      "cell_type": "code",
      "metadata": {
        "id": "Wp8LM-CnwS5G"
      },
      "source": [
        "def predict_with_lasso(X, y, X_test):\n",
        "  X_train, X_val, y_train, y_val = train_test_split(X, y, stratify=y, random_state=0)\n",
        "  print(\"train test split:\", X_train.shape, X_val.shape, y_train.shape, y_test.shape)\n",
        "  print(\"Ratio:\", np.sum(y_val) / len(y_val), np.sum(y) / len(y))\n",
        "\n",
        "  clf = Lasso(alpha=0.01)\n",
        "  clf.fit(X_train, y_train)\n",
        "\n",
        "  model = SVC()\n",
        "  model.fit(X_train[:, clf.coef_ != 0], y_train)\n",
        "\n",
        "  y_pred = model.predict(X_val[:, clf.coef_ != 0])\n",
        "  accuracy = sklearn.metrics.accuracy_score(y_val, y_pred, normalize=True)\n",
        "  mcc = sklearn.metrics.matthews_corrcoef(y_val, y_pred)\n",
        "  print(\"Accuracy:\", accuracy)\n",
        "  print(\"MCC:\", mcc)"
      ],
      "execution_count": null,
      "outputs": []
    },
    {
      "cell_type": "code",
      "metadata": {
        "id": "4Yu4tLUw0vL6"
      },
      "source": [
        "import sklearn\n",
        "from sklearn.svm import LinearSVC\n",
        "from sklearn.model_selection import train_test_split\n",
        "\n",
        "def tune_with_lasso(model_class, X, y, X_test, random_state=0):\n",
        "  print(\"\\n\")\n",
        "  train_indices, val_indices = train_test_split(np.arange(len(X)), stratify=y, random_state=random_state)\n",
        "\n",
        "  def iterator():\n",
        "    for tr, val in [(train_indices, val_indices)]:\n",
        "      yield tr, val\n",
        "\n",
        "  X_train, X_val = X[train_indices], X[val_indices]\n",
        "  y_train, y_val = y[train_indices], y[val_indices]\n",
        "\n",
        "  print(\"train test split:\", X_train.shape, X_val.shape, y_train.shape, y_val.shape)\n",
        "  print(\"Ratio:\", np.sum(y_val) / len(y_val), np.sum(y) / len(y))\n",
        "\n",
        "  linear_svm = LinearSVC(penalty='l1', dual=False, C=3, class_weight=\"balanced\", max_iter=10000)\n",
        "  linear_svm.fit(X, y)\n",
        "  feature_bools = (linear_svm.coef_ != 0).squeeze()\n",
        "\n",
        "  pca = PCA(n_components=0.9, svd_solver=\"full\")\n",
        "  X_pca = pca.fit_transform(X[:, feature_bools])  \n",
        "  X_train, X_val = X_pca[train_indices], X_pca[val_indices]\n",
        "\n",
        "  X_test = pca.transform(X_test[:, feature_bools])\n",
        "\n",
        "  print(\"SHAPE after PCA:\", X_train.shape)\n",
        "\n",
        "  model = model_class(kernel=\"linear\")\n",
        "  model.fit(X_train, y_train)\n",
        "\n",
        "  y_pred = model.predict(X_val)\n",
        "  accuracy = sklearn.metrics.accuracy_score(y_val, y_pred, normalize=True)\n",
        "  mcc = sklearn.metrics.matthews_corrcoef(y_val, y_pred)\n",
        "  print(\"Accuracy:\", accuracy)\n",
        "  print(\"MCC:\", mcc)\n",
        "\n",
        "  model = model_class(kernel=\"linear\")\n",
        "  model.fit(X_pca, y)\n",
        "  y_pred = model.predict(X_test)\n",
        "\n",
        "  print(y_pred.shape)\n",
        "  return y_pred"
      ],
      "execution_count": 69,
      "outputs": []
    },
    {
      "cell_type": "code",
      "metadata": {
        "colab": {
          "base_uri": "https://localhost:8080/"
        },
        "id": "GhR0qqDKpzDP",
        "outputId": "2980cf30-6dbd-4e73-886a-90f3f5dd561e"
      },
      "source": [
        "co6_pred = tune_with_lasso(SVC, X2, co6, X2_test, random_state=0)"
      ],
      "execution_count": 74,
      "outputs": [
        {
          "output_type": "stream",
          "name": "stdout",
          "text": [
            "\n",
            "\n",
            "train test split: (255, 54675) (85, 54675) (255,) (85,)\n",
            "Ratio: 0.5882352941176471 0.5882352941176471\n",
            "SHAPE after PCA: (255, 208)\n",
            "Accuracy: 1.0\n",
            "MCC: 1.0\n",
            "(214,)\n"
          ]
        }
      ]
    },
    {
      "cell_type": "code",
      "metadata": {
        "colab": {
          "base_uri": "https://localhost:8080/"
        },
        "id": "JxVcUXl_ra24",
        "outputId": "d5dd81d9-5d7a-4261-fd55-fc68f2fbf4c7"
      },
      "source": [
        "co5_pred = tune_with_lasso(SVC, X2, co5, X2_test, random_state=0)"
      ],
      "execution_count": 75,
      "outputs": [
        {
          "output_type": "stream",
          "name": "stdout",
          "text": [
            "\n",
            "\n",
            "train test split: (255, 54675) (85, 54675) (255,) (85,)\n",
            "Ratio: 0.4235294117647059 0.4294117647058823\n",
            "SHAPE after PCA: (255, 171)\n",
            "Accuracy: 1.0\n",
            "MCC: 1.0\n",
            "(214,)\n"
          ]
        }
      ]
    },
    {
      "cell_type": "code",
      "metadata": {
        "colab": {
          "base_uri": "https://localhost:8080/"
        },
        "id": "BHNZFYElruD3",
        "outputId": "3d0ed90a-f445-4b4e-c324-183f2510c36e"
      },
      "source": [
        "co4_pred = tune_with_lasso(SVC, X2, co4, X2_test, random_state=8)"
      ],
      "execution_count": 76,
      "outputs": [
        {
          "output_type": "stream",
          "name": "stdout",
          "text": [
            "\n",
            "\n",
            "train test split: (255, 54675) (85, 54675) (255,) (85,)\n",
            "Ratio: 0.15294117647058825 0.15\n",
            "SHAPE after PCA: (255, 165)\n",
            "Accuracy: 1.0\n",
            "MCC: 1.0\n",
            "(214,)\n"
          ]
        }
      ]
    },
    {
      "cell_type": "code",
      "metadata": {
        "colab": {
          "base_uri": "https://localhost:8080/"
        },
        "id": "1d7RZqwJruHQ",
        "outputId": "78a705ac-82a7-427d-c2e7-b3f7eec84869"
      },
      "source": [
        "co3_pred = tune_with_lasso(SVC, X2, co3, X2_test, random_state=0)"
      ],
      "execution_count": 77,
      "outputs": [
        {
          "output_type": "stream",
          "name": "stdout",
          "text": [
            "\n",
            "\n",
            "train test split: (255, 54675) (85, 54675) (255,) (85,)\n",
            "Ratio: 0.24705882352941178 0.24411764705882352\n",
            "SHAPE after PCA: (255, 181)\n",
            "Accuracy: 1.0\n",
            "MCC: 1.0\n",
            "(214,)\n"
          ]
        }
      ]
    },
    {
      "cell_type": "code",
      "metadata": {
        "colab": {
          "base_uri": "https://localhost:8080/"
        },
        "id": "JWV9sxIFruJ8",
        "outputId": "74d003b7-e857-4270-a166-7ccedf5d09c2"
      },
      "source": [
        "co2_pred = tune_with_lasso(SVC, X1, co2, X1_test, random_state=0)"
      ],
      "execution_count": 78,
      "outputs": [
        {
          "output_type": "stream",
          "name": "stdout",
          "text": [
            "\n",
            "\n",
            "train test split: (97, 22283) (33, 22283) (97,) (33,)\n",
            "Ratio: 0.3939393939393939 0.4076923076923077\n",
            "SHAPE after PCA: (97, 71)\n",
            "Accuracy: 1.0\n",
            "MCC: 1.0\n",
            "(100,)\n"
          ]
        }
      ]
    },
    {
      "cell_type": "code",
      "metadata": {
        "colab": {
          "base_uri": "https://localhost:8080/"
        },
        "id": "qe_MiMETr9OS",
        "outputId": "ca4a5f76-2b39-472c-c657-c24f7f154111"
      },
      "source": [
        "co1_pred = tune_with_lasso(SVC, X1, co1, X1_test, random_state=0)"
      ],
      "execution_count": 79,
      "outputs": [
        {
          "output_type": "stream",
          "name": "stdout",
          "text": [
            "\n",
            "\n",
            "train test split: (97, 22283) (33, 22283) (97,) (33,)\n",
            "Ratio: 0.24242424242424243 0.25384615384615383\n",
            "SHAPE after PCA: (97, 67)\n",
            "Accuracy: 1.0\n",
            "MCC: 1.0\n",
            "(100,)\n"
          ]
        }
      ]
    },
    {
      "cell_type": "code",
      "metadata": {
        "colab": {
          "base_uri": "https://localhost:8080/"
        },
        "id": "Tcw-0hP-2m9J",
        "outputId": "ec048b14-d6a0-4cc2-d4be-d8ae9efcd939"
      },
      "source": [
        "# random_grid = {\"C\": [0.01, 0.05, 0.1, 0.3, 1, 3], \"kernel\": [\"poly\", \"linear\", \"sigmoid\", \"rbf\"]}\n",
        "# co1_pred = tune_with_lasso(SVC, random_grid, X1, co1, X1_test)\n",
        "\n",
        "# random_grid = {\"C\": [0.01, 0.05, 0.1, 0.3, 1, 3], \"kernel\": [\"poly\", \"linear\", \"sigmoid\", \"rbf\"]}\n",
        "# co2_pred = tune_with_lasso(SVC, random_grid, X1, co2, X1_test)\n",
        "\n",
        "random_grid = {\"C\": [0.01, 0.05, 0.1, 0.3, 1, 3], \"kernel\": [\"poly\", \"linear\", \"sigmoid\", \"rbf\"]}\n",
        "co3_pred = tune_with_lasso(SVC, random_grid, X2, co3, X2_test)\n",
        "\n",
        "random_grid = {\"C\": [0.01, 0.05, 0.1, 0.3, 1, 3], \"kernel\": [\"poly\", \"linear\", \"sigmoid\", \"rbf\"]}\n",
        "co4_pred = tune_with_lasso(SVC, random_grid, X2, co4, X2_test)\n",
        "\n",
        "# random_grid = {\"C\": [0.01, 0.05, 0.1, 0.3, 1, 3], \"kernel\": [\"poly\", \"linear\", \"sigmoid\", \"rbf\"]}\n",
        "# co5_pred = tune_with_lasso(SVC, random_grid, X2, co5, X2_test)\n",
        "\n",
        "random_grid = {\"C\": [0.01, 0.05, 0.1, 0.3, 1, 3], \"kernel\": [\"poly\", \"linear\", \"sigmoid\", \"rbf\"]}\n",
        "co6_pred = tune_with_lasso(SVC, random_grid, X2, co6, X2_test)"
      ],
      "execution_count": null,
      "outputs": [
        {
          "output_type": "stream",
          "name": "stdout",
          "text": [
            "train test split: (97, 22283) (33, 22283) (97,) (33,)\n",
            "Ratio: 0.24242424242424243 0.25384615384615383\n",
            "best params: {'C': 0.05, 'kernel': 'poly'}\n",
            "Accuracy: 0.7878787878787878\n",
            "MCC: 0.39834823795432894\n",
            "train test split: (97, 22283) (33, 22283) (97,) (33,)\n",
            "Ratio: 0.3939393939393939 0.4076923076923077\n",
            "best params: {'C': 0.01, 'kernel': 'linear'}\n",
            "Accuracy: 0.7272727272727273\n",
            "MCC: 0.4372908076255168\n",
            "train test split: (255, 54675) (85, 54675) (255,) (33,)\n",
            "Ratio: 0.24705882352941178 0.24411764705882352\n",
            "best params: {'C': 0.01, 'kernel': 'linear'}\n",
            "Accuracy: 0.7529411764705882\n",
            "MCC: 0.21414512583907888\n",
            "train test split: (255, 54675) (85, 54675) (255,) (33,)\n",
            "Ratio: 0.15294117647058825 0.15\n",
            "best params: {'C': 3, 'kernel': 'rbf'}\n",
            "Accuracy: 0.8588235294117647\n",
            "MCC: 0.27300199312386064\n",
            "train test split: (255, 54675) (85, 54675) (255,) (33,)\n",
            "Ratio: 0.4235294117647059 0.4294117647058823\n",
            "best params: {'C': 0.3, 'kernel': 'rbf'}\n",
            "Accuracy: 0.8941176470588236\n",
            "MCC: 0.7994951062060258\n",
            "train test split: (255, 54675) (85, 54675) (255,) (33,)\n",
            "Ratio: 0.5882352941176471 0.5882352941176471\n",
            "best params: {'C': 0.01, 'kernel': 'poly'}\n",
            "Accuracy: 0.6\n",
            "MCC: 0.16734792501052412\n"
          ]
        }
      ]
    },
    {
      "cell_type": "code",
      "metadata": {
        "id": "Opz6BCR3naB8"
      },
      "source": [
        ""
      ],
      "execution_count": null,
      "outputs": []
    },
    {
      "cell_type": "code",
      "metadata": {
        "colab": {
          "base_uri": "https://localhost:8080/",
          "height": 419
        },
        "id": "ebetkHXzB4yY",
        "outputId": "0f48e131-b873-4859-8593-42104749ec16"
      },
      "source": [
        "predictions = np.concatenate([co1_pred, co2_pred, co3_pred, co4_pred, co5_pred, co6_pred]).astype(np.int32)\n",
        "submission = pd.DataFrame({\"Id\": np.arange(len(predictions)), \"Predicted\": predictions})\n",
        "submission"
      ],
      "execution_count": 80,
      "outputs": [
        {
          "output_type": "execute_result",
          "data": {
            "text/html": [
              "<div>\n",
              "<style scoped>\n",
              "    .dataframe tbody tr th:only-of-type {\n",
              "        vertical-align: middle;\n",
              "    }\n",
              "\n",
              "    .dataframe tbody tr th {\n",
              "        vertical-align: top;\n",
              "    }\n",
              "\n",
              "    .dataframe thead th {\n",
              "        text-align: right;\n",
              "    }\n",
              "</style>\n",
              "<table border=\"1\" class=\"dataframe\">\n",
              "  <thead>\n",
              "    <tr style=\"text-align: right;\">\n",
              "      <th></th>\n",
              "      <th>Id</th>\n",
              "      <th>Predicted</th>\n",
              "    </tr>\n",
              "  </thead>\n",
              "  <tbody>\n",
              "    <tr>\n",
              "      <th>0</th>\n",
              "      <td>0</td>\n",
              "      <td>0</td>\n",
              "    </tr>\n",
              "    <tr>\n",
              "      <th>1</th>\n",
              "      <td>1</td>\n",
              "      <td>0</td>\n",
              "    </tr>\n",
              "    <tr>\n",
              "      <th>2</th>\n",
              "      <td>2</td>\n",
              "      <td>0</td>\n",
              "    </tr>\n",
              "    <tr>\n",
              "      <th>3</th>\n",
              "      <td>3</td>\n",
              "      <td>0</td>\n",
              "    </tr>\n",
              "    <tr>\n",
              "      <th>4</th>\n",
              "      <td>4</td>\n",
              "      <td>0</td>\n",
              "    </tr>\n",
              "    <tr>\n",
              "      <th>...</th>\n",
              "      <td>...</td>\n",
              "      <td>...</td>\n",
              "    </tr>\n",
              "    <tr>\n",
              "      <th>1051</th>\n",
              "      <td>1051</td>\n",
              "      <td>1</td>\n",
              "    </tr>\n",
              "    <tr>\n",
              "      <th>1052</th>\n",
              "      <td>1052</td>\n",
              "      <td>1</td>\n",
              "    </tr>\n",
              "    <tr>\n",
              "      <th>1053</th>\n",
              "      <td>1053</td>\n",
              "      <td>0</td>\n",
              "    </tr>\n",
              "    <tr>\n",
              "      <th>1054</th>\n",
              "      <td>1054</td>\n",
              "      <td>1</td>\n",
              "    </tr>\n",
              "    <tr>\n",
              "      <th>1055</th>\n",
              "      <td>1055</td>\n",
              "      <td>0</td>\n",
              "    </tr>\n",
              "  </tbody>\n",
              "</table>\n",
              "<p>1056 rows × 2 columns</p>\n",
              "</div>"
            ],
            "text/plain": [
              "        Id  Predicted\n",
              "0        0          0\n",
              "1        1          0\n",
              "2        2          0\n",
              "3        3          0\n",
              "4        4          0\n",
              "...    ...        ...\n",
              "1051  1051          1\n",
              "1052  1052          1\n",
              "1053  1053          0\n",
              "1054  1054          1\n",
              "1055  1055          0\n",
              "\n",
              "[1056 rows x 2 columns]"
            ]
          },
          "metadata": {},
          "execution_count": 80
        }
      ]
    },
    {
      "cell_type": "code",
      "metadata": {
        "id": "lLD-RBp7CoOI"
      },
      "source": [
        "submission.to_csv(\"sub.csv\", index=False)"
      ],
      "execution_count": 81,
      "outputs": []
    },
    {
      "cell_type": "code",
      "metadata": {
        "colab": {
          "base_uri": "https://localhost:8080/"
        },
        "id": "QOTvi4XpzhHr",
        "outputId": "cd1c4ba9-49ee-4108-c29d-591a6cf8617c"
      },
      "source": [
        "predict(X1, co1, X1_test)\n",
        "predict(X1, co2, X1_test)\n",
        "predict(X2, co3, X2_test)\n",
        "predict(X2, co4, X2_test)\n",
        "predict(X2, co5, X2_test)\n",
        "predict(X2, co6, X2_test)"
      ],
      "execution_count": null,
      "outputs": [
        {
          "output_type": "stream",
          "name": "stdout",
          "text": [
            "train test split: (97, 22283) (33, 22283) (97,) (33,)\n",
            "0.24242424242424243 0.25384615384615383\n",
            "Accuracy: 0.7878787878787878\n",
            "MCC: 0.39834823795432894\n"
          ]
        }
      ]
    },
    {
      "cell_type": "code",
      "metadata": {
        "id": "gcy4A7c80O4y"
      },
      "source": [
        "def make_prediction3(model_class, random_grid, X1, X2, targets, X1_test, X2_test):\n",
        "  predictions = []\n",
        "\n",
        "  co1, co2, co3, co4, co5, co6 = targets\n",
        "  for X, y, X_test in zip([X1, X1, X2, X2, X2, X2], [co1, co2, co3, co4, co5, co6], [X1_test, X1_test, X2_test, X2_test, X2_test, X2_test]):\n",
        "    fs = LinearSVC(penalty='l1', dual=False, class_weight='balanced', C=3)\n",
        "    fs.fit(X, y)\n",
        "    fts = (fs.coef_ != 0)[0]\n",
        "    X_lasso = X[:, fts]\n",
        "\n",
        "    pca = PCA(n_components=0.95, svd_solver='full')\n",
        "    X_lasso_pca = pca.fit_transform(X_lasso)\n",
        "\n",
        "    print(\"######\")\n",
        "    print(X_lasso_pca.shape, y.shape)\n",
        "   \n",
        "    clf_random = GridSearchCV(estimator=model_class(), \n",
        "                                    param_grid=random_grid,\n",
        "                                    scoring=make_scorer(matthews_corrcoef), \n",
        "                                    cv=StratifiedKFold(3, shuffle=True, random_state=42), \n",
        "                                    n_jobs=-1,\n",
        "                                    return_train_score=True\n",
        "                                  )\n",
        "    clf_random.fit(X_lasso_pca, y)\n",
        "\n",
        "    model = model_class(**clf_random.best_params_)\n",
        "    model.fit(X_lasso_pca, y)\n",
        "\n",
        "    print(clf_random.best_params_)\n",
        "    print(train_test2(model, X_lasso_pca, y))\n",
        "\n",
        "    X_test_lasso = X_test[:, fts]\n",
        "    X_test_lasso_pca = pca.transform(X_test_lasso)\n",
        "    predictions.append(model.predict(X_test_lasso_pca))\n",
        "\n",
        "  predictions = np.concatenate(predictions).astype(np.int32)\n",
        "  submission = pd.DataFrame({\"Id\": np.arange(len(predictions)), \"Predicted\": predictions})\n",
        "  return submission"
      ],
      "execution_count": null,
      "outputs": []
    },
    {
      "cell_type": "code",
      "metadata": {
        "id": "uVhphRRwOT6X"
      },
      "source": [
        "sub.to_csv(\"submission2.csv\", index=False)"
      ],
      "execution_count": null,
      "outputs": []
    },
    {
      "cell_type": "code",
      "metadata": {
        "id": "VMjDzqb7WQtF"
      },
      "source": [
        ""
      ],
      "execution_count": null,
      "outputs": []
    }
  ]
}