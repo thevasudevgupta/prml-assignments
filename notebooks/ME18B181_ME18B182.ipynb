{
  "nbformat": 4,
  "nbformat_minor": 5,
  "metadata": {
    "kernelspec": {
      "display_name": "Python 3",
      "language": "python",
      "name": "python3"
    },
    "language_info": {
      "codemirror_mode": {
        "name": "ipython",
        "version": 3
      },
      "file_extension": ".py",
      "mimetype": "text/x-python",
      "name": "python",
      "nbconvert_exporter": "python",
      "pygments_lexer": "ipython3",
      "version": "3.6.13"
    },
    "colab": {
      "name": "ME18B181_ME18B182.ipynb",
      "provenance": [],
      "collapsed_sections": [],
      "include_colab_link": true
    }
  },
  "cells": [
    {
      "cell_type": "markdown",
      "metadata": {
        "id": "view-in-github",
        "colab_type": "text"
      },
      "source": [
        "<a href=\"https://colab.research.google.com/github/vasudevgupta7/prml-assignments/blob/main/notebooks/ME18B181_ME18B182.ipynb\" target=\"_parent\"><img src=\"https://colab.research.google.com/assets/colab-badge.svg\" alt=\"Open In Colab\"/></a>"
      ]
    },
    {
      "cell_type": "code",
      "metadata": {
        "id": "4ZGq-5DdCtYm"
      },
      "source": [
        "%%capture\n",
        "!wget https://huggingface.co/datasets/vasudevgupta/prml_data_contest/resolve/main/Dataset_1_Testing.csv\n",
        "!wget https://huggingface.co/datasets/vasudevgupta/prml_data_contest/resolve/main/Dataset_1_Training.csv\n",
        "!wget https://huggingface.co/datasets/vasudevgupta/prml_data_contest/resolve/main/Dataset_2_Testing.csv\n",
        "!wget https://huggingface.co/datasets/vasudevgupta/prml_data_contest/resolve/main/Dataset_2_Training.csv"
      ],
      "id": "4ZGq-5DdCtYm",
      "execution_count": 1,
      "outputs": []
    },
    {
      "cell_type": "code",
      "metadata": {
        "id": "b4548f3d-2d63-436a-bd42-bfe0c9013fb2"
      },
      "source": [
        "import numpy as np\n",
        "import pandas as pd\n",
        "\n",
        "from sklearn.svm import SVC\n",
        "from sklearn.ensemble import BaggingClassifier\n",
        "from sklearn.feature_selection import SelectKBest, RFE\n",
        "from sklearn.model_selection import train_test_split\n",
        "from sklearn.decomposition import PCA\n",
        "from sklearn.metrics import accuracy_score, matthews_corrcoef, make_scorer\n",
        "\n",
        "SEED = 42"
      ],
      "id": "b4548f3d-2d63-436a-bd42-bfe0c9013fb2",
      "execution_count": 2,
      "outputs": []
    },
    {
      "cell_type": "code",
      "metadata": {
        "id": "52004512-f5e8-40a8-8fcf-63677d909372"
      },
      "source": [
        "def load_data(train_file1, test_file1, train_file2, test_file2):\n",
        "  df1 = pd.read_csv(train_file1, index_col=0, header=0)\n",
        "  X1 = df1.values.T[:, :-2]\n",
        "  co1 = df1.iloc[-2,:].values.astype(np.int32)\n",
        "  co2 = df1.iloc[-1,:].values.astype(np.int32)\n",
        "\n",
        "  df1_test = pd.read_csv(test_file1, index_col=0, header=0)\n",
        "  X1_test = df1_test.values.T\n",
        "\n",
        "  df2 = pd.read_csv(train_file2, index_col=0, header=0)\n",
        "  X2 = df2.values.T[:, :-4]\n",
        "  co3 = df2.iloc[-4, :].values.astype(np.int32)\n",
        "  co4 = df2.iloc[-3, :].values.astype(np.int32)\n",
        "  co5 = df2.iloc[-2, :].values.astype(np.int32)\n",
        "  co6 = df2.iloc[-1, :].values.astype(np.int32)\n",
        "\n",
        "  df2_test = pd.read_csv(test_file2, index_col=0, header=0)\n",
        "  X2_test = df2_test.values.T\n",
        "\n",
        "  return X1, X2, (co1, co2, co3, co4, co5, co6), X1_test, X2_test"
      ],
      "id": "52004512-f5e8-40a8-8fcf-63677d909372",
      "execution_count": 3,
      "outputs": []
    },
    {
      "cell_type": "code",
      "metadata": {
        "colab": {
          "base_uri": "https://localhost:8080/"
        },
        "id": "b9e632d0-6d5c-490c-9414-e5acef0ba344",
        "outputId": "905d5126-3776-4a0a-da81-35d0516e6dae"
      },
      "source": [
        "train_file1 = \"Dataset_1_Training.csv\"\n",
        "test_file1 = \"Dataset_1_Testing.csv\"\n",
        "\n",
        "train_file2 = \"Dataset_2_Training.csv\"\n",
        "test_file2 = \"Dataset_2_Testing.csv\"\n",
        "\n",
        "X1, X2, targets, X1_test, X2_test = load_data(train_file1, test_file1, train_file2, test_file2)\n",
        "co1, co2, co3, co4, co5, co6 = targets\n",
        "\n",
        "print(\"dataset-1:\", X1.shape, co1.shape, co2.shape, X1_test.shape)\n",
        "print(\"dataset-2:\", X2.shape, co3.shape, co4.shape, co5.shape, co6.shape, X2_test.shape)"
      ],
      "id": "b9e632d0-6d5c-490c-9414-e5acef0ba344",
      "execution_count": 4,
      "outputs": [
        {
          "output_type": "stream",
          "name": "stdout",
          "text": [
            "dataset-1: (130, 22283) (130,) (130,) (100, 22283)\n",
            "dataset-2: (340, 54675) (340,) (340,) (340,) (340,) (214, 54675)\n"
          ]
        }
      ]
    },
    {
      "cell_type": "markdown",
      "metadata": {
        "id": "VpY7pkYlA-iV"
      },
      "source": [
        "## CO1"
      ],
      "id": "VpY7pkYlA-iV"
    },
    {
      "cell_type": "code",
      "metadata": {
        "colab": {
          "base_uri": "https://localhost:8080/"
        },
        "id": "iITbsBfFEI3H",
        "outputId": "d2b3c9f1-d479-4bdb-ad81-7990cf4b6b6a"
      },
      "source": [
        "pca = PCA(n_components=0.9, svd_solver=\"full\", random_state=SEED)\n",
        "X1_pca = pca.fit_transform(X1)\n",
        "X1_pca_test = pca.transform(X1_test)\n",
        "\n",
        "rfe = RFE(SVC(kernel=\"linear\", random_state=SEED), step=1, n_features_to_select=60)\n",
        "X1_rfe = rfe.fit_transform(X1_pca, co1)\n",
        "X1_rfe_test = rfe.transform(X1_pca_test)\n",
        "\n",
        "bgc1 = BaggingClassifier(SVC(kernel=\"linear\", random_state=SEED), n_estimators=100, max_samples=1.0, max_features=1.0, random_state=SEED)\n",
        "bgc1.fit(X1_rfe, co1)\n",
        "\n",
        "co1_pred = bgc1.predict(X1_rfe_test)\n",
        "co1_pred"
      ],
      "id": "iITbsBfFEI3H",
      "execution_count": 5,
      "outputs": [
        {
          "output_type": "execute_result",
          "data": {
            "text/plain": [
              "array([0, 0, 0, 0, 0, 0, 0, 1, 1, 0, 1, 0, 0, 0, 0, 1, 0, 0, 0, 0, 0, 0,\n",
              "       0, 0, 0, 0, 0, 0, 1, 0, 0, 0, 0, 0, 0, 0, 0, 0, 0, 1, 0, 0, 0, 0,\n",
              "       0, 0, 1, 0, 0, 1, 0, 0, 0, 0, 0, 0, 1, 0, 1, 0, 1, 0, 0, 0, 0, 0,\n",
              "       0, 0, 0, 1, 0, 0, 0, 0, 1, 0, 0, 1, 0, 0, 0, 0, 0, 0, 0, 0, 1, 0,\n",
              "       0, 0, 0, 0, 0, 0, 0, 0, 0, 0, 0, 0], dtype=int32)"
            ]
          },
          "metadata": {},
          "execution_count": 5
        }
      ]
    },
    {
      "cell_type": "markdown",
      "metadata": {
        "id": "Z7kPC37kA9QH"
      },
      "source": [
        "## CO2"
      ],
      "id": "Z7kPC37kA9QH"
    },
    {
      "cell_type": "code",
      "metadata": {
        "colab": {
          "base_uri": "https://localhost:8080/"
        },
        "id": "K6Oe_wULAwD3",
        "outputId": "c9eeddb4-c709-4982-8d1f-b222acbfe534"
      },
      "source": [
        "pca = PCA(n_components=0.9, svd_solver=\"full\", random_state=SEED)\n",
        "X1_pca = pca.fit_transform(X1)\n",
        "X1_pca_test = pca.transform(X1_test)\n",
        "\n",
        "rfe = RFE(SVC(kernel=\"linear\", random_state=SEED), step=1, n_features_to_select=70)\n",
        "X1_rfe = rfe.fit_transform(X1_pca, co2)\n",
        "X1_rfe_test = rfe.transform(X1_pca_test)\n",
        "\n",
        "bgc2 = BaggingClassifier(SVC(kernel=\"rbf\", random_state=SEED), n_estimators=75, max_samples=0.75, max_features=0.9, random_state=SEED)\n",
        "bgc2.fit(X1_rfe, co2)\n",
        "\n",
        "co2_pred = bgc2.predict(X1_rfe_test)\n",
        "co2_pred"
      ],
      "id": "K6Oe_wULAwD3",
      "execution_count": 6,
      "outputs": [
        {
          "output_type": "execute_result",
          "data": {
            "text/plain": [
              "array([1, 1, 0, 1, 0, 0, 1, 0, 0, 1, 0, 0, 0, 1, 1, 0, 1, 0, 0, 0, 0, 0,\n",
              "       0, 1, 1, 0, 1, 0, 0, 0, 1, 0, 0, 1, 0, 0, 1, 0, 1, 0, 0, 1, 0, 1,\n",
              "       0, 0, 0, 0, 0, 0, 1, 1, 0, 1, 0, 0, 0, 0, 0, 1, 0, 1, 0, 1, 0, 0,\n",
              "       0, 1, 0, 0, 1, 1, 1, 1, 0, 0, 1, 0, 0, 0, 0, 1, 0, 1, 1, 1, 0, 1,\n",
              "       0, 1, 0, 0, 1, 0, 1, 0, 0, 1, 0, 0], dtype=int32)"
            ]
          },
          "metadata": {},
          "execution_count": 6
        }
      ]
    },
    {
      "cell_type": "markdown",
      "metadata": {
        "id": "Aw4AnrnhA8DJ"
      },
      "source": [
        "## CO3"
      ],
      "id": "Aw4AnrnhA8DJ"
    },
    {
      "cell_type": "code",
      "metadata": {
        "colab": {
          "base_uri": "https://localhost:8080/"
        },
        "id": "RaKf3OIJ5-Y-",
        "outputId": "9658aacf-aff0-43a2-c4d7-877ab3c0f933"
      },
      "source": [
        "pca = PCA(n_components=0.9, svd_solver=\"full\", random_state=SEED)\n",
        "X2_pca = pca.fit_transform(X2)\n",
        "X2_pca_test = pca.transform(X2_test)\n",
        "\n",
        "rfe = RFE(SVC(kernel=\"linear\", random_state=SEED), step=1, n_features_to_select=75)\n",
        "X2_rfe = rfe.fit_transform(X2_pca, co3)\n",
        "X2_rfe_test = rfe.transform(X2_pca_test)\n",
        "\n",
        "bgc3 = BaggingClassifier(SVC(kernel=\"rbf\", C=10, random_state=SEED), n_estimators=100, max_samples=0.75, max_features=1.0, random_state=SEED)\n",
        "bgc3.fit(X2_rfe, co3)\n",
        "\n",
        "co3_pred = bgc3.predict(X2_rfe_test)\n",
        "co3_pred"
      ],
      "id": "RaKf3OIJ5-Y-",
      "execution_count": 7,
      "outputs": [
        {
          "output_type": "execute_result",
          "data": {
            "text/plain": [
              "array([0, 0, 0, 0, 0, 0, 0, 0, 0, 1, 0, 0, 0, 0, 0, 0, 0, 0, 0, 0, 0, 1,\n",
              "       0, 0, 1, 0, 0, 0, 0, 0, 0, 0, 0, 0, 0, 0, 0, 0, 0, 0, 0, 0, 0, 0,\n",
              "       0, 0, 0, 0, 0, 0, 1, 0, 0, 0, 0, 0, 0, 0, 0, 0, 1, 0, 0, 0, 0, 0,\n",
              "       0, 0, 1, 0, 0, 0, 0, 0, 0, 0, 0, 0, 0, 0, 0, 1, 0, 0, 0, 0, 0, 0,\n",
              "       1, 0, 0, 0, 0, 0, 0, 0, 1, 0, 0, 0, 0, 0, 0, 0, 0, 0, 0, 0, 0, 0,\n",
              "       0, 0, 0, 0, 0, 0, 0, 0, 0, 0, 0, 0, 0, 0, 0, 0, 0, 0, 0, 0, 0, 0,\n",
              "       0, 0, 0, 0, 0, 0, 0, 0, 0, 0, 0, 0, 0, 0, 0, 0, 0, 0, 0, 0, 0, 0,\n",
              "       0, 0, 0, 0, 0, 0, 0, 0, 0, 0, 0, 0, 0, 0, 0, 0, 0, 0, 0, 0, 0, 0,\n",
              "       0, 0, 0, 0, 0, 0, 1, 0, 0, 0, 0, 0, 0, 0, 0, 0, 0, 0, 0, 0, 0, 0,\n",
              "       0, 0, 0, 0, 0, 0, 0, 0, 0, 0, 0, 0, 0, 0, 1, 0], dtype=int32)"
            ]
          },
          "metadata": {},
          "execution_count": 7
        }
      ]
    },
    {
      "cell_type": "markdown",
      "metadata": {
        "id": "QgHrm0FtQJh0"
      },
      "source": [
        "## CO4, CO5, CO6"
      ],
      "id": "QgHrm0FtQJh0"
    },
    {
      "cell_type": "code",
      "metadata": {
        "id": "RffkoHEkim5D"
      },
      "source": [
        "DEFAULT_CONFIGS = {\n",
        "    \"SelectKBest__k\": 1000,\n",
        "    \"PCA__n_components\": 300,\n",
        "    \"RFECV__SVC__C\": 0.1,\n",
        "    \"RFECV__SVC__gamma\": 1,\n",
        "    \"RFECV__SVC__kernel\": 'linear',\n",
        "    \"RFECV__n_features_to_select\": 10,\n",
        "    \"BaggingClassifier__SVC__C\": 0.1,\n",
        "    \"BaggingClassifier__SVC__gamma\": 1,\n",
        "    \"BaggingClassifier__SVC__kernel\": \"linear\",\n",
        "    \"BaggingClassifier__n_estimators\": 100,\n",
        "}\n",
        "\n",
        "def train_and_predict(X, y, X_test, configs={}):\n",
        "  cfg = DEFAULT_CONFIGS.copy()\n",
        "  cfg.update(configs)\n",
        "  print(cfg)\n",
        "\n",
        "  features_selector = SelectKBest(k=cfg[\"SelectKBest__k\"])\n",
        "  features_selector.fit(X, y)\n",
        "\n",
        "  ftrs = features_selector.get_support()\n",
        "  X = X[:, ftrs]\n",
        "  X_test = X_test[:, ftrs]\n",
        "\n",
        "  print(\"After SelectKBest, X_shape:\", X.shape)\n",
        "\n",
        "  pca = PCA(n_components=cfg[\"PCA__n_components\"], random_state=SEED)\n",
        "  X = pca.fit_transform(X)\n",
        "  X_test = pca.transform(X_test)\n",
        "  print(\"After PCA, X_shape:\", X.shape)\n",
        "\n",
        "  rfe_svc = SVC(C=cfg[\"RFECV__SVC__C\"], gamma=cfg[\"RFECV__SVC__gamma\"], kernel=cfg[\"RFECV__SVC__kernel\"], random_state=SEED)\n",
        "  rfe = RFE(rfe_svc, n_features_to_select=cfg[\"RFECV__n_features_to_select\"])\n",
        "\n",
        "  X = rfe.fit_transform(X, y)\n",
        "  X_test = rfe.transform(X_test)\n",
        "\n",
        "  print(\"After RFE, X_shape:\", X.shape)\n",
        "\n",
        "  bgc_svc = SVC(\n",
        "      C=cfg[\"BaggingClassifier__SVC__C\"],\n",
        "      gamma=cfg[\"BaggingClassifier__SVC__gamma\"],\n",
        "      kernel=cfg[\"BaggingClassifier__SVC__kernel\"],\n",
        "      random_state=SEED,\n",
        "  )\n",
        "  bgc = BaggingClassifier(\n",
        "      base_estimator=bgc_svc,\n",
        "      n_estimators=cfg[\"BaggingClassifier__n_estimators\"],\n",
        "      random_state=SEED,\n",
        "  )\n",
        "  bgc.fit(X, y)\n",
        "\n",
        "  return bgc.predict(X_test)"
      ],
      "id": "RffkoHEkim5D",
      "execution_count": 8,
      "outputs": []
    },
    {
      "cell_type": "code",
      "metadata": {
        "colab": {
          "base_uri": "https://localhost:8080/"
        },
        "id": "BxrSbNOaugWf",
        "outputId": "69be5895-0b71-41f2-e0fc-a7b3f9429c4d"
      },
      "source": [
        "configs = {\"SelectKBest__k\": 3000, \"RFECV__n_features_to_select\": 100}\n",
        "co4_pred = train_and_predict(X2, co4, X2_test, configs=configs)"
      ],
      "id": "BxrSbNOaugWf",
      "execution_count": 9,
      "outputs": [
        {
          "output_type": "stream",
          "name": "stdout",
          "text": [
            "{'SelectKBest__k': 3000, 'PCA__n_components': 300, 'RFECV__SVC__C': 0.1, 'RFECV__SVC__gamma': 1, 'RFECV__SVC__kernel': 'linear', 'RFECV__n_features_to_select': 100, 'BaggingClassifier__SVC__C': 0.1, 'BaggingClassifier__SVC__gamma': 1, 'BaggingClassifier__SVC__kernel': 'linear', 'BaggingClassifier__n_estimators': 100}\n",
            "After SelectKBest, X_shape: (340, 3000)\n",
            "After PCA, X_shape: (340, 300)\n",
            "After RFE, X_shape: (340, 100)\n"
          ]
        }
      ]
    },
    {
      "cell_type": "code",
      "metadata": {
        "colab": {
          "base_uri": "https://localhost:8080/"
        },
        "id": "DWlnb8O0ugY2",
        "outputId": "e479c531-5eb8-470f-b351-6d4a602aa86a"
      },
      "source": [
        "configs = {\"SelectKBest__k\": 3000, \"RFECV__n_features_to_select\": 105}\n",
        "co5_pred = train_and_predict(X2, co5, X2_test, configs=configs)"
      ],
      "id": "DWlnb8O0ugY2",
      "execution_count": 10,
      "outputs": [
        {
          "output_type": "stream",
          "name": "stdout",
          "text": [
            "{'SelectKBest__k': 3000, 'PCA__n_components': 300, 'RFECV__SVC__C': 0.1, 'RFECV__SVC__gamma': 1, 'RFECV__SVC__kernel': 'linear', 'RFECV__n_features_to_select': 105, 'BaggingClassifier__SVC__C': 0.1, 'BaggingClassifier__SVC__gamma': 1, 'BaggingClassifier__SVC__kernel': 'linear', 'BaggingClassifier__n_estimators': 100}\n",
            "After SelectKBest, X_shape: (340, 3000)\n",
            "After PCA, X_shape: (340, 300)\n",
            "After RFE, X_shape: (340, 105)\n"
          ]
        }
      ]
    },
    {
      "cell_type": "code",
      "metadata": {
        "colab": {
          "base_uri": "https://localhost:8080/"
        },
        "id": "x_t4i2Myt0eU",
        "outputId": "84da0172-c805-4ce8-f66c-adb5b3748a07"
      },
      "source": [
        "configs = {\n",
        "    \"SelectKBest__k\": 3000,\n",
        "    \"BaggingClassifier__SVC__kernel\": \"rbf\",\n",
        "    \"RFECV__n_features_to_select\": 95,\n",
        "}\n",
        "\n",
        "co6_pred = train_and_predict(X2, co6, X2_test, configs=configs)"
      ],
      "id": "x_t4i2Myt0eU",
      "execution_count": 11,
      "outputs": [
        {
          "output_type": "stream",
          "name": "stdout",
          "text": [
            "{'SelectKBest__k': 3000, 'PCA__n_components': 300, 'RFECV__SVC__C': 0.1, 'RFECV__SVC__gamma': 1, 'RFECV__SVC__kernel': 'linear', 'RFECV__n_features_to_select': 95, 'BaggingClassifier__SVC__C': 0.1, 'BaggingClassifier__SVC__gamma': 1, 'BaggingClassifier__SVC__kernel': 'rbf', 'BaggingClassifier__n_estimators': 100}\n",
            "After SelectKBest, X_shape: (340, 3000)\n",
            "After PCA, X_shape: (340, 300)\n",
            "After RFE, X_shape: (340, 95)\n"
          ]
        }
      ]
    },
    {
      "cell_type": "markdown",
      "metadata": {
        "id": "CD9UvymvE_To"
      },
      "source": [
        "## Submission"
      ],
      "id": "CD9UvymvE_To"
    },
    {
      "cell_type": "code",
      "metadata": {
        "id": "_jK9hfDkBsp4"
      },
      "source": [
        "def make_submission(co1_pred, co2_pred, co3_pred, co4_pred, co5_pred, co6_pred):\n",
        "  predictions = np.concatenate([co1_pred, co2_pred, co3_pred, co4_pred, co5_pred, co6_pred])\n",
        "  predictions = predictions.astype(np.int32)\n",
        "  submission = pd.DataFrame({\"Id\": np.arange(len(predictions)), \"Predicted\": predictions})\n",
        "  return submission\n",
        "\n",
        "submission = make_submission(co1_pred, co2_pred, co3_pred, co4_pred, co5_pred, co6_pred)\n",
        "submission.to_csv(\"submission.csv\", index=False)"
      ],
      "id": "_jK9hfDkBsp4",
      "execution_count": 12,
      "outputs": []
    }
  ]
}